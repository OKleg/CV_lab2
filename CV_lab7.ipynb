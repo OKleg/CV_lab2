{
  "cells": [
    {
      "cell_type": "code",
      "execution_count": 16,
      "metadata": {
        "id": "14K_d6ZI9Gw0"
      },
      "outputs": [],
      "source": [
        "import cv2\n",
        "import numpy as np\n",
        "from matplotlib import pyplot as plt\n",
        "from numba import njit, prange"
      ]
    },
    {
      "cell_type": "code",
      "execution_count": 17,
      "metadata": {
        "id": "sviN86Ed9KLf"
      },
      "outputs": [],
      "source": [
        "theta = np.array([0, 0.5, 0.5])\n",
        "eps = 1e-5\n",
        "data = {\n",
        "    'none': {\n",
        "        'color': np.array([255, 255, 255]),\n",
        "        'index': 0\n",
        "    },\n",
        "    'background': {\n",
        "        'color': np.array([0, 0, 255]),\n",
        "        'index': 1\n",
        "    },\n",
        "    'foreground': {\n",
        "        'color': np.array([255, 0, 0]),\n",
        "        'index': 2\n",
        "    },\n",
        "}"
      ]
    },
    {
      "cell_type": "code",
      "execution_count": 18,
      "metadata": {
        "id": "r7oxSc8O9_aM"
      },
      "outputs": [],
      "source": [
        "@njit(parallel=True)\n",
        "def growcut(image, num_mask, theta, eps):\n",
        "    height, width, _ = image.shape\n",
        "    for _ in range(50):\n",
        "        for row_idx in prange(2, height - 2):\n",
        "            for col_idx in prange(2, width - 2):\n",
        "                win = num_mask[row_idx, col_idx]\n",
        "                a_max = 0\n",
        "                for window_row_idx in range(-2, 3):\n",
        "                    for window_col_idx in range(-2, 3):\n",
        "                        if num_mask[row_idx + window_row_idx, col_idx + window_col_idx] == 0 and num_mask[row_idx, col_idx] == 0:\n",
        "                            continue\n",
        "                        a = 1 / (np.sqrt(np.sum(np.power(image[row_idx, col_idx] - image[row_idx + window_row_idx, col_idx + window_col_idx], 2))) + eps)\n",
        "                        if a - a_max > -1e-5:\n",
        "                            win = num_mask[row_idx + window_row_idx, col_idx + window_col_idx]\n",
        "                            a_max = a\n",
        "                if win != 0 and theta[win] * a_max > theta[num_mask[row_idx, col_idx]]:\n",
        "                    num_mask[row_idx, col_idx] = win\n",
        "    return num_mask"
      ]
    },
    {
      "cell_type": "code",
      "source": [
        "def growCut_segmentation():\n",
        "    height, width, _ = image.shape\n",
        "    mask = cv2.resize(origin_mask, (width, height), interpolation=cv2.INTER_AREA)\n",
        "    repeated = np.swapaxes(np.repeat(mask, 3, axis=2).reshape((height, width, 3, 3)), 2, 3)\n",
        "    concatenated = np.concatenate(list(map(lambda item: item[1]['color'], sorted(data.items(), key=lambda item: item[1]['index'])))).reshape((3, 3))\n",
        "    color_dists = np.linalg.norm(repeated[:, :] - concatenated, axis=3)\n",
        "    num_mask = np.argmin(color_dists, axis=2)\n",
        "\n",
        "    num_mask = growcut(image.copy(), num_mask.copy(), theta.copy(), eps)\n",
        "\n",
        "    segmentation = image.copy()\n",
        "    segmentation[num_mask != data['foreground']['index']] = np.array([0, 0, 0])\n",
        "    plt.imshow(segmentation)\n"
      ],
      "metadata": {
        "id": "36OUV5sWZTan"
      },
      "execution_count": 19,
      "outputs": []
    },
    {
      "cell_type": "code",
      "source": [
        "image = cv2.cvtColor(cv2.imread('image.png'), cv2.COLOR_BGR2RGB)\n",
        "origin_mask = cv2.cvtColor(cv2.imread('mask_image.png'), cv2.COLOR_BGR2RGB)\n",
        "plt.imshow(np.concatenate([origin_mask, image], axis=1))"
      ],
      "metadata": {
        "id": "Ug_Nc0AZZcgr"
      },
      "execution_count": null,
      "outputs": []
    },
    {
      "cell_type": "code",
      "source": [
        "growCut_segmentation()"
      ],
      "metadata": {
        "id": "zhxRbLsqeG8i"
      },
      "execution_count": null,
      "outputs": []
    }
  ],
  "metadata": {
    "colab": {
      "provenance": [],
      "authorship_tag": "ABX9TyPA9Zq6ChKYc4lj29++GIUQ"
    },
    "kernelspec": {
      "display_name": "Python 3",
      "name": "python3"
    },
    "language_info": {
      "name": "python"
    }
  },
  "nbformat": 4,
  "nbformat_minor": 0
}